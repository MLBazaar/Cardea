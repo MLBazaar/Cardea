{
 "cells": [
  {
   "cell_type": "markdown",
   "metadata": {},
   "source": [
    "### Imports"
   ]
  },
  {
   "cell_type": "code",
   "execution_count": 1,
   "metadata": {},
   "outputs": [],
   "source": [
    "import pandas as pd\n",
    "import matplotlib.pyplot as plt\n",
    "from sklearn.metrics import accuracy_score"
   ]
  },
  {
   "cell_type": "code",
   "execution_count": 2,
   "metadata": {},
   "outputs": [],
   "source": [
    "%load_ext autoreload\n",
    "%autoreload 2"
   ]
  },
  {
   "cell_type": "code",
   "execution_count": 4,
   "metadata": {},
   "outputs": [],
   "source": [
    "from cardea import cardea"
   ]
  },
  {
   "cell_type": "code",
   "execution_count": 5,
   "metadata": {},
   "outputs": [],
   "source": [
    "# optional\n",
    "import warnings\n",
    "warnings.filterwarnings(\"ignore\")"
   ]
  },
  {
   "cell_type": "markdown",
   "metadata": {},
   "source": [
    "# Cardea\n",
    "\n",
    "After importing the necessary packages, it is time to initialize a new object of cardea. This object will serve as the main pillar to call any method within cardea."
   ]
  },
  {
   "cell_type": "code",
   "execution_count": 6,
   "metadata": {},
   "outputs": [],
   "source": [
    "cd = cardea.Cardea()"
   ]
  },
  {
   "cell_type": "markdown",
   "metadata": {},
   "source": [
    "## Load Dataset "
   ]
  },
  {
   "cell_type": "code",
   "execution_count": 8,
   "metadata": {},
   "outputs": [],
   "source": [
    "cd.load_sepsis('../../Health Module 1/Early Prediction of Sepsis/training')"
   ]
  },
  {
   "cell_type": "code",
   "execution_count": 9,
   "metadata": {},
   "outputs": [
    {
     "data": {
      "text/plain": [
       "Entityset: sepsis\n",
       "  Entities:\n",
       "    Patients [Rows: 5000, Columns: 2]\n",
       "    Visits [Rows: 188453, Columns: 42]\n",
       "  Relationships:\n",
       "    Visits.Patient_ID -> Patients.Patient_ID"
      ]
     },
     "execution_count": 9,
     "metadata": {},
     "output_type": "execute_result"
    }
   ],
   "source": [
    "# to view the loaded entityset\n",
    "cd.es"
   ]
  },
  {
   "cell_type": "markdown",
   "metadata": {},
   "source": [
    "## Problem Definition"
   ]
  },
  {
   "cell_type": "code",
   "execution_count": 32,
   "metadata": {},
   "outputs": [],
   "source": [
    "# select problem\n",
    "cutoff = cd.select_problem('Sepsis')"
   ]
  },
  {
   "cell_type": "markdown",
   "metadata": {},
   "source": [
    "## AutoML"
   ]
  },
  {
   "cell_type": "code",
   "execution_count": 43,
   "metadata": {
    "scrolled": true
   },
   "outputs": [
    {
     "name": "stdout",
     "output_type": "stream",
     "text": [
      "Built 283 features\n",
      "Elapsed: 36:43 | Remaining: 00:00 | Progress: 100%|██████████| Calculated: 11/11 chunks\n"
     ]
    }
   ],
   "source": [
    "# feature engineering\n",
    "feature_matrix = cd.generate_features(cutoff) # first 1000 records"
   ]
  },
  {
   "cell_type": "code",
   "execution_count": 44,
   "metadata": {},
   "outputs": [],
   "source": [
    "# shuffle the dataframe\n",
    "X = feature_matrix.sample(frac=1).fillna(0)\n",
    "\n",
    "# pop the target labels\n",
    "y = list(X.pop('label'))\n",
    "X = X.values"
   ]
  },
  {
   "cell_type": "code",
   "execution_count": 45,
   "metadata": {
    "scrolled": true
   },
   "outputs": [],
   "source": [
    "# modeling\n",
    "pipeline = [['sklearn.ensemble.RandomForestClassifier']]\n",
    "#             ['sklearn.naive_bayes.MultinomialNB'], \n",
    "#             ['sklearn.linear_model.LogisticRegression']]\n",
    "\n",
    "exe = cd.execute_model(feature_matrix=X,\n",
    "                       target=y, \n",
    "                       primitives=pipeline)"
   ]
  },
  {
   "cell_type": "code",
   "execution_count": 46,
   "metadata": {},
   "outputs": [
    {
     "data": {
      "text/plain": [
       "{'pipeline0': {'folds': {'0': {'Actual': array([0, 0, 0, ..., 0, 0, 0]),\n",
       "    'predicted': array([0, 0, 0, ..., 0, 0, 0])},\n",
       "   '1': {'Actual': array([0, 0, 0, ..., 0, 0, 0]),\n",
       "    'predicted': array([0, 0, 0, ..., 0, 0, 0])},\n",
       "   '2': {'Actual': array([0, 0, 0, ..., 0, 0, 0]),\n",
       "    'predicted': array([0, 0, 0, ..., 0, 0, 0])},\n",
       "   '3': {'Actual': array([0, 0, 0, ..., 0, 0, 0]),\n",
       "    'predicted': array([0, 0, 0, ..., 0, 0, 0])},\n",
       "   '4': {'Actual': array([0, 0, 0, ..., 0, 0, 0]),\n",
       "    'predicted': array([0, 0, 0, ..., 0, 0, 0])},\n",
       "   '5': {'Actual': array([0, 0, 0, ..., 0, 0, 0]),\n",
       "    'predicted': array([0, 0, 0, ..., 0, 0, 0])},\n",
       "   '6': {'Actual': array([0, 0, 0, ..., 0, 0, 0]),\n",
       "    'predicted': array([0, 0, 0, ..., 0, 0, 0])},\n",
       "   '7': {'Actual': array([0, 0, 0, ..., 0, 0, 0]),\n",
       "    'predicted': array([0, 0, 0, ..., 0, 0, 0])},\n",
       "   '8': {'Actual': array([0, 0, 0, ..., 0, 0, 0]),\n",
       "    'predicted': array([0, 0, 0, ..., 0, 0, 0])},\n",
       "   '9': {'Actual': array([0, 0, 0, ..., 0, 0, 0]),\n",
       "    'predicted': array([0, 0, 0, ..., 0, 0, 0])}},\n",
       "  'hyperparameter': None,\n",
       "  'primitives': ['sklearn.ensemble.RandomForestClassifier']}}"
      ]
     },
     "execution_count": 46,
     "metadata": {},
     "output_type": "execute_result"
    }
   ],
   "source": [
    "exe"
   ]
  },
  {
   "cell_type": "markdown",
   "metadata": {},
   "source": [
    "------------"
   ]
  }
 ],
 "metadata": {
  "kernelspec": {
   "display_name": "Python 3",
   "language": "python",
   "name": "python3"
  },
  "language_info": {
   "codemirror_mode": {
    "name": "ipython",
    "version": 3
   },
   "file_extension": ".py",
   "mimetype": "text/x-python",
   "name": "python",
   "nbconvert_exporter": "python",
   "pygments_lexer": "ipython3",
   "version": "3.5.5"
  },
  "widgets": {
   "state": {},
   "version": "1.1.2"
  }
 },
 "nbformat": 4,
 "nbformat_minor": 2
}
