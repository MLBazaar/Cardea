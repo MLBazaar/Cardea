{
 "cells": [
  {
   "cell_type": "markdown",
   "metadata": {
    "id": "V7jxFkEVVIll"
   },
   "source": [
    "# Cardea\n",
    "\n",
    "Cardea is a machine learning library built on top of FHIR data standard to solve various common prediction problems from electronic health records.\n",
    "\n",
    "This is a python notebook that demonstrates Cardea's workflow from a user's perspective. It is decomposed based on the elements present in the framework. Documentation: https://DAI-Lab.github.io/Cardea/\n",
    "\n",
    "Currently in support of version 0.1.0.\n",
    "\n",
    "In this tutorial, we show how to predict whether a patient will showup to an appointment using a dataset from Kaggle's Medical Appointment No Shows. Over 30% of patients miss their scheduled appointments, this results in poor optimization of time and resources. Through machine learning, we want to predict future appointment no-shows by using an end-to-end library that is easy to interpret."
   ]
  },
  {
   "cell_type": "code",
   "execution_count": 1,
   "metadata": {
    "id": "uqYRyFYLVfBK"
   },
   "outputs": [],
   "source": [
    "%load_ext autoreload\n",
    "%autoreload 2\n",
    "\n",
    "from cardea import Cardea"
   ]
  },
  {
   "cell_type": "code",
   "execution_count": 2,
   "metadata": {
    "id": "rA1hkWm3VkpI"
   },
   "outputs": [],
   "source": [
    "# optional\n",
    "import warnings\n",
    "warnings.filterwarnings(\"ignore\")"
   ]
  },
  {
   "cell_type": "markdown",
   "metadata": {
    "id": "698qsY4uVoAP"
   },
   "source": [
    "After importing the necessary packages, it is time to initialize a new object of cardea. This object will serve as the main pillar to call any method within cardea."
   ]
  },
  {
   "cell_type": "code",
   "execution_count": 3,
   "metadata": {
    "id": "bN9h70jQVm6V"
   },
   "outputs": [],
   "source": [
    "cd = Cardea()"
   ]
  },
  {
   "cell_type": "markdown",
   "metadata": {
    "id": "X8BDIGQOVwOe"
   },
   "source": [
    "## Load Kaggle Dataset\n",
    "Using cardea's `load_data_entityset`, we can now either load local files that are in [FHIR](https://hl7.org/fhir) format. In order to try out cardea, we want to load kaggle's open dataset instead. Cardea automatically loads the Kaggle dataset into its memory when no folder path is given."
   ]
  },
  {
   "cell_type": "code",
   "execution_count": 4,
   "metadata": {
    "colab": {
     "base_uri": "https://localhost:8080/"
    },
    "id": "eVpLci9k0JqF",
    "outputId": "e6c0c6ad-830f-4689-aaa2-1d4a1e36e2ab"
   },
   "outputs": [
    {
     "name": "stdout",
     "output_type": "stream",
     "text": [
      "  % Total    % Received % Xferd  Average Speed   Time    Time     Time  Current\n",
      "                                 Dload  Upload   Total   Spent    Left  Speed\n",
      "100 2988k  100 2988k    0     0  6345k      0 --:--:-- --:--:-- --:--:-- 6332k\n",
      "Archive:  kaggle.zip\n",
      "  inflating: kaggle/Patient.csv      \n",
      "  inflating: kaggle/Coding.csv       \n",
      "  inflating: kaggle/Appointment_Participant.csv  \n",
      "  inflating: kaggle/Address.csv      \n",
      " extracting: kaggle/CodeableConcept.csv  \n",
      "  inflating: kaggle/Reference.csv    \n",
      "  inflating: kaggle/Observation.csv  \n",
      "  inflating: kaggle/Identifier.csv   \n",
      "  inflating: kaggle/Appointment.csv  \n"
     ]
    }
   ],
   "source": [
    "! curl -O https://dai-cardea.s3.amazonaws.com/kaggle.zip && unzip -d kaggle kaggle.zip"
   ]
  },
  {
   "cell_type": "code",
   "execution_count": 5,
   "metadata": {
    "colab": {
     "base_uri": "https://localhost:8080/"
    },
    "id": "AwQ3q-50V88W",
    "outputId": "73a3f5a7-31c2-475c-9e64-9b6687893a99"
   },
   "outputs": [
    {
     "data": {
      "text/plain": [
       "Entityset: fhir\n",
       "  Entities:\n",
       "    Patient [Rows: 6100, Columns: 4]\n",
       "    Coding [Rows: 3, Columns: 2]\n",
       "    Appointment_Participant [Rows: 6100, Columns: 2]\n",
       "    Address [Rows: 81, Columns: 2]\n",
       "    CodeableConcept [Rows: 4, Columns: 2]\n",
       "    Reference [Rows: 6100, Columns: 1]\n",
       "    Observation [Rows: 110527, Columns: 3]\n",
       "    Identifier [Rows: 227151, Columns: 1]\n",
       "    Appointment [Rows: 110527, Columns: 5]\n",
       "  Relationships:\n",
       "    Patient.address -> Address.object_id\n",
       "    Appointment_Participant.actor -> Reference.identifier\n",
       "    CodeableConcept.coding -> Coding.object_id\n",
       "    Observation.code -> CodeableConcept.object_id\n",
       "    Observation.subject -> Reference.identifier\n",
       "    Appointment.participant -> Appointment_Participant.object_id"
      ]
     },
     "execution_count": 5,
     "metadata": {},
     "output_type": "execute_result"
    }
   ],
   "source": [
    "cd.load_entityset(data_path='kaggle', fhir=True)\n",
    "\n",
    "# to view the loaded entityset\n",
    "cd.es"
   ]
  },
  {
   "cell_type": "markdown",
   "metadata": {
    "id": "i90DCR_CWDpR"
   },
   "source": [
    "The first section (entities) represents the resources that were loaded into the framework. In other words, it describes the dataframes available presented with the number of rows and columns. The second section describes the relationship between the resources. For example, the Patient resource has an address variable that is connected to the __Address__ resource."
   ]
  },
  {
   "cell_type": "markdown",
   "metadata": {
    "id": "OcLZ1JW6WNy2"
   },
   "source": [
    "## Problem Definition\n",
    "You can display all the problems currently implemented in cardea under the `list_problems` method."
   ]
  },
  {
   "cell_type": "code",
   "execution_count": 6,
   "metadata": {
    "colab": {
     "base_uri": "https://localhost:8080/"
    },
    "id": "mvpDcTMZWGgV",
    "outputId": "53eecb40-bbec-4b60-95c7-85dd84662e1c"
   },
   "outputs": [
    {
     "data": {
      "text/plain": [
       "{'appointment_no_show',\n",
       " 'diagnosis_prediction',\n",
       " 'length_of_stay',\n",
       " 'mortality',\n",
       " 'readmission'}"
      ]
     },
     "execution_count": 6,
     "metadata": {},
     "output_type": "execute_result"
    }
   ],
   "source": [
    "cd.list_labelers()"
   ]
  },
  {
   "cell_type": "markdown",
   "metadata": {
    "id": "CdqkG6N5WW6a"
   },
   "source": [
    "In this case, we will define the problem as _Missed Appointment_ to predict whether a patient will miss their next appointment.\n",
    "\n"
   ]
  },
  {
   "cell_type": "code",
   "execution_count": 8,
   "metadata": {
    "colab": {
     "base_uri": "https://localhost:8080/",
     "height": 195
    },
    "id": "XnxQR8UDWTBw",
    "outputId": "0281f75b-9e89-4c90-84ae-774415e10d11"
   },
   "outputs": [
    {
     "name": "stdout",
     "output_type": "stream",
     "text": [
      "Elapsed: 01:50 | Remaining: 00:00 | Progress: 100%|██████████| identifier: 110527/110527 \n"
     ]
    },
    {
     "data": {
      "text/html": [
       "<div>\n",
       "<style scoped>\n",
       "    .dataframe tbody tr th:only-of-type {\n",
       "        vertical-align: middle;\n",
       "    }\n",
       "\n",
       "    .dataframe tbody tr th {\n",
       "        vertical-align: top;\n",
       "    }\n",
       "\n",
       "    .dataframe thead th {\n",
       "        text-align: right;\n",
       "    }\n",
       "</style>\n",
       "<table border=\"1\" class=\"dataframe\">\n",
       "  <thead>\n",
       "    <tr style=\"text-align: right;\">\n",
       "      <th></th>\n",
       "      <th>identifier</th>\n",
       "      <th>time</th>\n",
       "      <th>missed</th>\n",
       "    </tr>\n",
       "  </thead>\n",
       "  <tbody>\n",
       "    <tr>\n",
       "      <th>0</th>\n",
       "      <td>5030230</td>\n",
       "      <td>2015-11-10 07:13:56</td>\n",
       "      <td>True</td>\n",
       "    </tr>\n",
       "    <tr>\n",
       "      <th>1</th>\n",
       "      <td>5122866</td>\n",
       "      <td>2015-12-03 08:17:28</td>\n",
       "      <td>False</td>\n",
       "    </tr>\n",
       "    <tr>\n",
       "      <th>2</th>\n",
       "      <td>5134197</td>\n",
       "      <td>2015-12-07 10:40:59</td>\n",
       "      <td>False</td>\n",
       "    </tr>\n",
       "    <tr>\n",
       "      <th>3</th>\n",
       "      <td>5134220</td>\n",
       "      <td>2015-12-07 10:42:42</td>\n",
       "      <td>True</td>\n",
       "    </tr>\n",
       "    <tr>\n",
       "      <th>4</th>\n",
       "      <td>5134223</td>\n",
       "      <td>2015-12-07 10:43:01</td>\n",
       "      <td>True</td>\n",
       "    </tr>\n",
       "  </tbody>\n",
       "</table>\n",
       "</div>"
      ],
      "text/plain": [
       "   identifier                time  missed\n",
       "0     5030230 2015-11-10 07:13:56    True\n",
       "1     5122866 2015-12-03 08:17:28   False\n",
       "2     5134197 2015-12-07 10:40:59   False\n",
       "3     5134220 2015-12-07 10:42:42    True\n",
       "4     5134223 2015-12-07 10:43:01    True"
      ]
     },
     "execution_count": 8,
     "metadata": {},
     "output_type": "execute_result"
    }
   ],
   "source": [
    "# select problem\n",
    "label_times = cd.create_label_times()\n",
    "label_times.head(5)"
   ]
  },
  {
   "cell_type": "markdown",
   "metadata": {
    "id": "D2vf2-iyWgfb"
   },
   "source": [
    "## AutoML\n",
    "Automated machine learning composes from two main phases:\n",
    "\n",
    "* **automated feature engineering**: through autofe, we extract information called features. Finding the features is crucial for building data models and help in finding a satisfactory answer and interpreting the dataset as a whole.\n",
    "* **automated modeling**: in automated modeling, the library supports running multiple machine learning algorithms and optimizes its hyperparamters in order to find the most optimal model.\n",
    "\n",
    "Typically, this phase is complex and comprises of many elements, but Cardea provides an easier way of handling both phases."
   ]
  },
  {
   "cell_type": "code",
   "execution_count": 10,
   "metadata": {
    "colab": {
     "base_uri": "https://localhost:8080/",
     "height": 282
    },
    "id": "e2VFryACWfQt",
    "outputId": "af9b3ca2-afa2-4a3a-881b-a9b347fc7e83"
   },
   "outputs": [
    {
     "name": "stdout",
     "output_type": "stream",
     "text": [
      "Built 14 features\n",
      "Elapsed: 00:26 | Progress: 100%|██████████\n"
     ]
    },
    {
     "data": {
      "text/html": [
       "<div>\n",
       "<style scoped>\n",
       "    .dataframe tbody tr th:only-of-type {\n",
       "        vertical-align: middle;\n",
       "    }\n",
       "\n",
       "    .dataframe tbody tr th {\n",
       "        vertical-align: top;\n",
       "    }\n",
       "\n",
       "    .dataframe thead th {\n",
       "        text-align: right;\n",
       "    }\n",
       "</style>\n",
       "<table border=\"1\" class=\"dataframe\">\n",
       "  <thead>\n",
       "    <tr style=\"text-align: right;\">\n",
       "      <th></th>\n",
       "      <th>status</th>\n",
       "      <th>participant</th>\n",
       "      <th>DAY(created)</th>\n",
       "      <th>DAY(start)</th>\n",
       "      <th>IS_WEEKEND(created)</th>\n",
       "      <th>IS_WEEKEND(start)</th>\n",
       "      <th>MONTH(created)</th>\n",
       "      <th>MONTH(start)</th>\n",
       "      <th>WEEKDAY(created)</th>\n",
       "      <th>WEEKDAY(start)</th>\n",
       "      <th>YEAR(created)</th>\n",
       "      <th>YEAR(start)</th>\n",
       "      <th>Appointment_Participant.actor</th>\n",
       "      <th>Appointment_Participant.COUNT(Appointment)</th>\n",
       "      <th>missed</th>\n",
       "    </tr>\n",
       "    <tr>\n",
       "      <th>identifier</th>\n",
       "      <th></th>\n",
       "      <th></th>\n",
       "      <th></th>\n",
       "      <th></th>\n",
       "      <th></th>\n",
       "      <th></th>\n",
       "      <th></th>\n",
       "      <th></th>\n",
       "      <th></th>\n",
       "      <th></th>\n",
       "      <th></th>\n",
       "      <th></th>\n",
       "      <th></th>\n",
       "      <th></th>\n",
       "      <th></th>\n",
       "    </tr>\n",
       "  </thead>\n",
       "  <tbody>\n",
       "    <tr>\n",
       "      <th>5030230</th>\n",
       "      <td>noshow</td>\n",
       "      <td>3353377007</td>\n",
       "      <td>10</td>\n",
       "      <td>4</td>\n",
       "      <td>False</td>\n",
       "      <td>False</td>\n",
       "      <td>11</td>\n",
       "      <td>5</td>\n",
       "      <td>1</td>\n",
       "      <td>2</td>\n",
       "      <td>2015</td>\n",
       "      <td>2016</td>\n",
       "      <td>832000000000000</td>\n",
       "      <td>56</td>\n",
       "      <td>True</td>\n",
       "    </tr>\n",
       "    <tr>\n",
       "      <th>5122866</th>\n",
       "      <td>fulfilled</td>\n",
       "      <td>486500845</td>\n",
       "      <td>3</td>\n",
       "      <td>2</td>\n",
       "      <td>False</td>\n",
       "      <td>False</td>\n",
       "      <td>12</td>\n",
       "      <td>5</td>\n",
       "      <td>3</td>\n",
       "      <td>0</td>\n",
       "      <td>2015</td>\n",
       "      <td>2016</td>\n",
       "      <td>91600000000000</td>\n",
       "      <td>55</td>\n",
       "      <td>False</td>\n",
       "    </tr>\n",
       "    <tr>\n",
       "      <th>5134197</th>\n",
       "      <td>fulfilled</td>\n",
       "      <td>64062658</td>\n",
       "      <td>7</td>\n",
       "      <td>3</td>\n",
       "      <td>False</td>\n",
       "      <td>False</td>\n",
       "      <td>12</td>\n",
       "      <td>6</td>\n",
       "      <td>0</td>\n",
       "      <td>4</td>\n",
       "      <td>2015</td>\n",
       "      <td>2016</td>\n",
       "      <td>1220000000000</td>\n",
       "      <td>33</td>\n",
       "      <td>False</td>\n",
       "    </tr>\n",
       "    <tr>\n",
       "      <th>5134220</th>\n",
       "      <td>noshow</td>\n",
       "      <td>207195819</td>\n",
       "      <td>7</td>\n",
       "      <td>3</td>\n",
       "      <td>False</td>\n",
       "      <td>False</td>\n",
       "      <td>12</td>\n",
       "      <td>6</td>\n",
       "      <td>0</td>\n",
       "      <td>4</td>\n",
       "      <td>2015</td>\n",
       "      <td>2016</td>\n",
       "      <td>31900000000000</td>\n",
       "      <td>48</td>\n",
       "      <td>True</td>\n",
       "    </tr>\n",
       "    <tr>\n",
       "      <th>5134223</th>\n",
       "      <td>noshow</td>\n",
       "      <td>1089855247</td>\n",
       "      <td>7</td>\n",
       "      <td>3</td>\n",
       "      <td>False</td>\n",
       "      <td>False</td>\n",
       "      <td>12</td>\n",
       "      <td>6</td>\n",
       "      <td>0</td>\n",
       "      <td>4</td>\n",
       "      <td>2015</td>\n",
       "      <td>2016</td>\n",
       "      <td>9580000000000</td>\n",
       "      <td>38</td>\n",
       "      <td>True</td>\n",
       "    </tr>\n",
       "  </tbody>\n",
       "</table>\n",
       "</div>"
      ],
      "text/plain": [
       "               status  participant  DAY(created)  DAY(start)  \\\n",
       "identifier                                                     \n",
       "5030230        noshow   3353377007            10           4   \n",
       "5122866     fulfilled    486500845             3           2   \n",
       "5134197     fulfilled     64062658             7           3   \n",
       "5134220        noshow    207195819             7           3   \n",
       "5134223        noshow   1089855247             7           3   \n",
       "\n",
       "            IS_WEEKEND(created)  IS_WEEKEND(start)  MONTH(created)  \\\n",
       "identifier                                                           \n",
       "5030230                   False              False              11   \n",
       "5122866                   False              False              12   \n",
       "5134197                   False              False              12   \n",
       "5134220                   False              False              12   \n",
       "5134223                   False              False              12   \n",
       "\n",
       "            MONTH(start)  WEEKDAY(created)  WEEKDAY(start)  YEAR(created)  \\\n",
       "identifier                                                                  \n",
       "5030230                5                 1               2           2015   \n",
       "5122866                5                 3               0           2015   \n",
       "5134197                6                 0               4           2015   \n",
       "5134220                6                 0               4           2015   \n",
       "5134223                6                 0               4           2015   \n",
       "\n",
       "            YEAR(start)  Appointment_Participant.actor  \\\n",
       "identifier                                               \n",
       "5030230            2016                832000000000000   \n",
       "5122866            2016                 91600000000000   \n",
       "5134197            2016                  1220000000000   \n",
       "5134220            2016                 31900000000000   \n",
       "5134223            2016                  9580000000000   \n",
       "\n",
       "            Appointment_Participant.COUNT(Appointment)  missed  \n",
       "identifier                                                      \n",
       "5030230                                             56    True  \n",
       "5122866                                             55   False  \n",
       "5134197                                             33   False  \n",
       "5134220                                             48    True  \n",
       "5134223                                             38    True  "
      ]
     },
     "execution_count": 10,
     "metadata": {},
     "output_type": "execute_result"
    }
   ],
   "source": [
    "# feature engineering\n",
    "feature_matrix = cd.generate_features(label_times[:1000], verbose=True) # takes a while for the full dataset\n",
    "feature_matrix.head(5)"
   ]
  },
  {
   "cell_type": "markdown",
   "metadata": {},
   "source": [
    "Once we have the features, we can now split the data into training and testing"
   ]
  },
  {
   "cell_type": "code",
   "execution_count": 13,
   "metadata": {
    "id": "xGmr2hXEWw9T"
   },
   "outputs": [],
   "source": [
    "# pop the target labels\n",
    "y = feature_matrix.pop('missed').values\n",
    "X = feature_matrix.values\n",
    "\n",
    "X_train, X_test, y_train, y_test = cd.train_test_split(\n",
    "    X, y, test_size=0.2, shuffle=True)"
   ]
  },
  {
   "cell_type": "markdown",
   "metadata": {},
   "source": [
    "Now that we have our feature matrix properly divided, we can use to train our machine learning pipeline, Modeling, optimizing hyperparameters and finding the most optimal model"
   ]
  },
  {
   "cell_type": "code",
   "execution_count": 15,
   "metadata": {},
   "outputs": [],
   "source": [
    "cd.set_pipeline('Random Forest')\n",
    "cd.fit(X_train, y_train)\n",
    "y_pred = cd.predict(X_test)"
   ]
  },
  {
   "cell_type": "markdown",
   "metadata": {
    "id": "Kr5EsvQUW4Yo"
   },
   "source": [
    "Finally, you can evaluate the performance of the model"
   ]
  },
  {
   "cell_type": "code",
   "execution_count": 19,
   "metadata": {
    "colab": {
     "base_uri": "https://localhost:8080/"
    },
    "id": "JNvYIt-dXb7G",
    "outputId": "b3081349-c2ac-4334-a02a-61f942f2bfd6"
   },
   "outputs": [
    {
     "data": {
      "text/plain": [
       "Accuracy     1.0\n",
       "F1 Macro     1.0\n",
       "Precision    1.0\n",
       "Recall       1.0\n",
       "dtype: float64"
      ]
     },
     "execution_count": 19,
     "metadata": {},
     "output_type": "execute_result"
    }
   ],
   "source": [
    "cd.evaluate(X, y, fit=True, test_size=0.2, shuffle=True)"
   ]
  }
 ],
 "metadata": {
  "colab": {
   "collapsed_sections": [],
   "name": "appointment_noshow_tutorial",
   "provenance": [],
   "toc_visible": true
  },
  "kernelspec": {
   "display_name": "Python 3",
   "language": "python",
   "name": "python3"
  },
  "language_info": {
   "codemirror_mode": {
    "name": "ipython",
    "version": 3
   },
   "file_extension": ".py",
   "mimetype": "text/x-python",
   "name": "python",
   "nbconvert_exporter": "python",
   "pygments_lexer": "ipython3",
   "version": "3.7.10"
  }
 },
 "nbformat": 4,
 "nbformat_minor": 1
}
