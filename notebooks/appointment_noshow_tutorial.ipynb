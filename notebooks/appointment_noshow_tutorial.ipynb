{
 "cells": [
  {
   "cell_type": "markdown",
   "metadata": {
    "id": "V7jxFkEVVIll"
   },
   "source": [
    "# Cardea\n",
    "\n",
    "Cardea is a machine learning library built on top of FHIR data standard to solve various common prediction problems from electronic health records.\n",
    "\n",
    "This is a python notebook that demonstrates Cardea's workflow from a user's perspective. It is decomposed based on the elements present in the framework. Documentation: https://DAI-Lab.github.io/Cardea/\n",
    "\n",
    "Currently in support of version 0.1.0.\n",
    "\n",
    "In this tutorial, we show how to predict whether a patient will showup to an appointment using a dataset from Kaggle's Medical Appointment No Shows. Over 30% of patients miss their scheduled appointments, this results in poor optimization of time and resources. Through machine learning, we want to predict future appointment no-shows by using an end-to-end library that is easy to interpret."
   ]
  },
  {
   "cell_type": "code",
   "execution_count": 1,
   "metadata": {
    "colab": {
     "base_uri": "https://localhost:8080/"
    },
    "id": "bF4XlPH8UPPO",
    "outputId": "aca5874e-a449-4ec5-f111-78a2fc7a29c2"
   },
   "outputs": [],
   "source": [
    "# if you are running from Google Colab, uncomment the following commands to \n",
    "# install cardea.\n",
    "\n",
    "# ! pip install cardea\n",
    "# ! pip install 'urllib3!=1.25.0,!=1.25.1,<1.26,>=1.21.1'"
   ]
  },
  {
   "cell_type": "code",
   "execution_count": 2,
   "metadata": {
    "id": "uqYRyFYLVfBK"
   },
   "outputs": [],
   "source": [
    "# imports \n",
    "import pandas as pd\n",
    "import matplotlib.pyplot as plt\n",
    "from sklearn.metrics import accuracy_score\n",
    "\n",
    "from cardea import Cardea"
   ]
  },
  {
   "cell_type": "code",
   "execution_count": 3,
   "metadata": {
    "id": "rA1hkWm3VkpI"
   },
   "outputs": [],
   "source": [
    "# optional\n",
    "import warnings\n",
    "warnings.filterwarnings(\"ignore\")"
   ]
  },
  {
   "cell_type": "markdown",
   "metadata": {
    "id": "698qsY4uVoAP"
   },
   "source": [
    "After importing the necessary packages, it is time to initialize a new object of cardea. This object will serve as the main pillar to call any method within cardea."
   ]
  },
  {
   "cell_type": "code",
   "execution_count": 4,
   "metadata": {
    "id": "bN9h70jQVm6V"
   },
   "outputs": [],
   "source": [
    "cd = Cardea()"
   ]
  },
  {
   "cell_type": "markdown",
   "metadata": {
    "id": "X8BDIGQOVwOe"
   },
   "source": [
    "## Load Kaggle Dataset\n",
    "Using cardea's `load_data_entityset`, we can now either load local files that are in [FHIR](https://hl7.org/fhir) format. In order to try out cardea, we want to load kaggle's open dataset instead. Cardea automatically loads the Kaggle dataset into its memory when no folder path is given."
   ]
  },
  {
   "cell_type": "code",
   "execution_count": 5,
   "metadata": {
    "colab": {
     "base_uri": "https://localhost:8080/"
    },
    "id": "eVpLci9k0JqF",
    "outputId": "e6c0c6ad-830f-4689-aaa2-1d4a1e36e2ab"
   },
   "outputs": [
    {
     "name": "stdout",
     "output_type": "stream",
     "text": [
      "  % Total    % Received % Xferd  Average Speed   Time    Time     Time  Current\n",
      "                                 Dload  Upload   Total   Spent    Left  Speed\n",
      "100 2983k  100 2983k    0     0  4618k      0 --:--:-- --:--:-- --:--:-- 4611k\n",
      "Archive:  kaggle.zip\n",
      "   creating: kaggle/\n",
      "  inflating: kaggle/Patient.csv      \n",
      "  inflating: kaggle/Coding.csv       \n",
      "  inflating: kaggle/Appointment_Participant.csv  \n",
      "  inflating: kaggle/Address.csv      \n",
      "  inflating: kaggle/CodeableConcept.csv  \n",
      "  inflating: kaggle/Reference.csv    \n",
      "  inflating: kaggle/Observation.csv  \n",
      "  inflating: kaggle/Identifier.csv   \n",
      "  inflating: kaggle/Appointment.csv  \n"
     ]
    }
   ],
   "source": [
    "! curl -O https://dai-cardea.s3.amazonaws.com/kaggle.zip && unzip kaggle.zip"
   ]
  },
  {
   "cell_type": "code",
   "execution_count": 6,
   "metadata": {
    "colab": {
     "base_uri": "https://localhost:8080/"
    },
    "id": "AwQ3q-50V88W",
    "outputId": "73a3f5a7-31c2-475c-9e64-9b6687893a99"
   },
   "outputs": [
    {
     "data": {
      "text/plain": [
       "Entityset: fhir\n",
       "  Entities:\n",
       "    Patient [Rows: 6100, Columns: 4]\n",
       "    Coding [Rows: 3, Columns: 2]\n",
       "    Appointment_Participant [Rows: 6100, Columns: 2]\n",
       "    Address [Rows: 81, Columns: 2]\n",
       "    CodeableConcept [Rows: 4, Columns: 2]\n",
       "    Reference [Rows: 6100, Columns: 1]\n",
       "    Observation [Rows: 110527, Columns: 3]\n",
       "    Identifier [Rows: 227151, Columns: 1]\n",
       "    Appointment [Rows: 110527, Columns: 5]\n",
       "  Relationships:\n",
       "    Patient.address -> Address.object_id\n",
       "    Appointment_Participant.actor -> Reference.identifier\n",
       "    CodeableConcept.coding -> Coding.object_id\n",
       "    Observation.code -> CodeableConcept.object_id\n",
       "    Observation.subject -> Reference.identifier\n",
       "    Appointment.participant -> Appointment_Participant.object_id"
      ]
     },
     "execution_count": 6,
     "metadata": {},
     "output_type": "execute_result"
    }
   ],
   "source": [
    "cd.load_data_entityset(folder_path='kaggle')\n",
    "\n",
    "# to view the loaded entityset\n",
    "cd.es"
   ]
  },
  {
   "cell_type": "markdown",
   "metadata": {
    "id": "i90DCR_CWDpR"
   },
   "source": [
    "The first section (entities) represents the resources that were loaded into the framework. In other words, it describes the dataframes available presented with the number of rows and columns. The second section describes the relationship between the resources. For example, the Patient resource has an address variable that is connected to the __Address__ resource."
   ]
  },
  {
   "cell_type": "markdown",
   "metadata": {
    "id": "OcLZ1JW6WNy2"
   },
   "source": [
    "## Problem Definition\n",
    "You can display all the problems currently implemented in cardea under the `list_problems` method."
   ]
  },
  {
   "cell_type": "code",
   "execution_count": 7,
   "metadata": {
    "colab": {
     "base_uri": "https://localhost:8080/"
    },
    "id": "mvpDcTMZWGgV",
    "outputId": "53eecb40-bbec-4b60-95c7-85dd84662e1c"
   },
   "outputs": [
    {
     "data": {
      "text/plain": [
       "{'DiagnosisPrediction',\n",
       " 'LengthOfStay',\n",
       " 'MissedAppointmentProblemDefinition',\n",
       " 'MortalityPrediction',\n",
       " 'ProlongedLengthOfStay',\n",
       " 'Readmission'}"
      ]
     },
     "execution_count": 7,
     "metadata": {},
     "output_type": "execute_result"
    }
   ],
   "source": [
    "cd.list_problems()"
   ]
  },
  {
   "cell_type": "markdown",
   "metadata": {
    "id": "CdqkG6N5WW6a"
   },
   "source": [
    "In this case, we will define the problem as _Missed Appointment_ to predict whether a patient will miss their next appointment.\n",
    "\n"
   ]
  },
  {
   "cell_type": "code",
   "execution_count": 8,
   "metadata": {
    "colab": {
     "base_uri": "https://localhost:8080/",
     "height": 195
    },
    "id": "XnxQR8UDWTBw",
    "outputId": "0281f75b-9e89-4c90-84ae-774415e10d11"
   },
   "outputs": [
    {
     "data": {
      "text/html": [
       "<div>\n",
       "<style scoped>\n",
       "    .dataframe tbody tr th:only-of-type {\n",
       "        vertical-align: middle;\n",
       "    }\n",
       "\n",
       "    .dataframe tbody tr th {\n",
       "        vertical-align: top;\n",
       "    }\n",
       "\n",
       "    .dataframe thead th {\n",
       "        text-align: right;\n",
       "    }\n",
       "</style>\n",
       "<table border=\"1\" class=\"dataframe\">\n",
       "  <thead>\n",
       "    <tr style=\"text-align: right;\">\n",
       "      <th></th>\n",
       "      <th>cutoff_time</th>\n",
       "      <th>instance_id</th>\n",
       "      <th>label</th>\n",
       "    </tr>\n",
       "  </thead>\n",
       "  <tbody>\n",
       "    <tr>\n",
       "      <th>5030230</th>\n",
       "      <td>2015-11-10 07:13:56</td>\n",
       "      <td>5030230</td>\n",
       "      <td>noshow</td>\n",
       "    </tr>\n",
       "    <tr>\n",
       "      <th>5122866</th>\n",
       "      <td>2015-12-03 08:17:28</td>\n",
       "      <td>5122866</td>\n",
       "      <td>fulfilled</td>\n",
       "    </tr>\n",
       "    <tr>\n",
       "      <th>5134197</th>\n",
       "      <td>2015-12-07 10:40:59</td>\n",
       "      <td>5134197</td>\n",
       "      <td>fulfilled</td>\n",
       "    </tr>\n",
       "    <tr>\n",
       "      <th>5134220</th>\n",
       "      <td>2015-12-07 10:42:42</td>\n",
       "      <td>5134220</td>\n",
       "      <td>noshow</td>\n",
       "    </tr>\n",
       "    <tr>\n",
       "      <th>5134223</th>\n",
       "      <td>2015-12-07 10:43:01</td>\n",
       "      <td>5134223</td>\n",
       "      <td>noshow</td>\n",
       "    </tr>\n",
       "  </tbody>\n",
       "</table>\n",
       "</div>"
      ],
      "text/plain": [
       "                cutoff_time  instance_id      label\n",
       "5030230 2015-11-10 07:13:56      5030230     noshow\n",
       "5122866 2015-12-03 08:17:28      5122866  fulfilled\n",
       "5134197 2015-12-07 10:40:59      5134197  fulfilled\n",
       "5134220 2015-12-07 10:42:42      5134220     noshow\n",
       "5134223 2015-12-07 10:43:01      5134223     noshow"
      ]
     },
     "execution_count": 8,
     "metadata": {},
     "output_type": "execute_result"
    }
   ],
   "source": [
    "# select problem\n",
    "label_times = cd.select_problem('MissedAppointmentProblemDefinition')\n",
    "label_times.head(5)"
   ]
  },
  {
   "cell_type": "markdown",
   "metadata": {
    "id": "D2vf2-iyWgfb"
   },
   "source": [
    "## AutoML\n",
    "Automated machine learning composes from two main phases:\n",
    "\n",
    "* **automated feature engineering**: through autofe, we extract information called features. Finding the features is crucial for building data models and help in finding a satisfactory answer and interpreting the dataset as a whole.\n",
    "* **automated modeling**: in automated modeling, the library supports running multiple machine learning algorithms and optimizes its hyperparamters in order to find the most optimal model.\n",
    "\n",
    "Typically, this phase is complex and comprises of many elements, but Cardea provides an easier way of handling both phases."
   ]
  },
  {
   "cell_type": "code",
   "execution_count": 9,
   "metadata": {
    "colab": {
     "base_uri": "https://localhost:8080/",
     "height": 282
    },
    "id": "e2VFryACWfQt",
    "outputId": "af9b3ca2-afa2-4a3a-881b-a9b347fc7e83"
   },
   "outputs": [
    {
     "name": "stdout",
     "output_type": "stream",
     "text": [
      "Built 13 features\n",
      "Elapsed: 00:52 | Remaining: 00:00 | Progress: 100%|██████████| Calculated: 10/10 chunks\n"
     ]
    },
    {
     "data": {
      "text/html": [
       "<div>\n",
       "<style scoped>\n",
       "    .dataframe tbody tr th:only-of-type {\n",
       "        vertical-align: middle;\n",
       "    }\n",
       "\n",
       "    .dataframe tbody tr th {\n",
       "        vertical-align: top;\n",
       "    }\n",
       "\n",
       "    .dataframe thead th {\n",
       "        text-align: right;\n",
       "    }\n",
       "</style>\n",
       "<table border=\"1\" class=\"dataframe\">\n",
       "  <thead>\n",
       "    <tr style=\"text-align: right;\">\n",
       "      <th></th>\n",
       "      <th>participant = 4159901403</th>\n",
       "      <th>participant = 3856467788</th>\n",
       "      <th>participant = 3807024061</th>\n",
       "      <th>participant = 3215247433</th>\n",
       "      <th>participant = 2872476717</th>\n",
       "      <th>participant = 2417505282</th>\n",
       "      <th>participant = 4162690658</th>\n",
       "      <th>participant = 3562155678</th>\n",
       "      <th>participant = 3488625302</th>\n",
       "      <th>participant = 3418939447</th>\n",
       "      <th>...</th>\n",
       "      <th>Appointment_Participant.actor = 27200000000000</th>\n",
       "      <th>Appointment_Participant.actor = 9740000000000</th>\n",
       "      <th>Appointment_Participant.actor = 8460000000000</th>\n",
       "      <th>Appointment_Participant.actor = 923000000000000</th>\n",
       "      <th>Appointment_Participant.actor = 795000000000000</th>\n",
       "      <th>Appointment_Participant.actor = 724000000000000</th>\n",
       "      <th>Appointment_Participant.actor = 659000000000000</th>\n",
       "      <th>Appointment_Participant.actor is unknown</th>\n",
       "      <th>Appointment_Participant.COUNT(Appointment)</th>\n",
       "      <th>label</th>\n",
       "    </tr>\n",
       "  </thead>\n",
       "  <tbody>\n",
       "    <tr>\n",
       "      <th>0</th>\n",
       "      <td>0</td>\n",
       "      <td>0</td>\n",
       "      <td>0</td>\n",
       "      <td>0</td>\n",
       "      <td>0</td>\n",
       "      <td>0</td>\n",
       "      <td>0</td>\n",
       "      <td>0</td>\n",
       "      <td>0</td>\n",
       "      <td>0</td>\n",
       "      <td>...</td>\n",
       "      <td>0</td>\n",
       "      <td>0</td>\n",
       "      <td>0</td>\n",
       "      <td>0</td>\n",
       "      <td>0</td>\n",
       "      <td>0</td>\n",
       "      <td>0</td>\n",
       "      <td>1</td>\n",
       "      <td>56</td>\n",
       "      <td>noshow</td>\n",
       "    </tr>\n",
       "    <tr>\n",
       "      <th>1</th>\n",
       "      <td>0</td>\n",
       "      <td>0</td>\n",
       "      <td>0</td>\n",
       "      <td>0</td>\n",
       "      <td>0</td>\n",
       "      <td>0</td>\n",
       "      <td>0</td>\n",
       "      <td>0</td>\n",
       "      <td>0</td>\n",
       "      <td>0</td>\n",
       "      <td>...</td>\n",
       "      <td>0</td>\n",
       "      <td>0</td>\n",
       "      <td>0</td>\n",
       "      <td>0</td>\n",
       "      <td>0</td>\n",
       "      <td>0</td>\n",
       "      <td>0</td>\n",
       "      <td>1</td>\n",
       "      <td>55</td>\n",
       "      <td>fulfilled</td>\n",
       "    </tr>\n",
       "    <tr>\n",
       "      <th>2</th>\n",
       "      <td>0</td>\n",
       "      <td>0</td>\n",
       "      <td>0</td>\n",
       "      <td>0</td>\n",
       "      <td>0</td>\n",
       "      <td>0</td>\n",
       "      <td>0</td>\n",
       "      <td>0</td>\n",
       "      <td>0</td>\n",
       "      <td>0</td>\n",
       "      <td>...</td>\n",
       "      <td>0</td>\n",
       "      <td>0</td>\n",
       "      <td>0</td>\n",
       "      <td>0</td>\n",
       "      <td>0</td>\n",
       "      <td>0</td>\n",
       "      <td>0</td>\n",
       "      <td>1</td>\n",
       "      <td>33</td>\n",
       "      <td>fulfilled</td>\n",
       "    </tr>\n",
       "    <tr>\n",
       "      <th>3</th>\n",
       "      <td>0</td>\n",
       "      <td>0</td>\n",
       "      <td>0</td>\n",
       "      <td>0</td>\n",
       "      <td>0</td>\n",
       "      <td>0</td>\n",
       "      <td>0</td>\n",
       "      <td>0</td>\n",
       "      <td>0</td>\n",
       "      <td>0</td>\n",
       "      <td>...</td>\n",
       "      <td>0</td>\n",
       "      <td>0</td>\n",
       "      <td>0</td>\n",
       "      <td>0</td>\n",
       "      <td>0</td>\n",
       "      <td>0</td>\n",
       "      <td>0</td>\n",
       "      <td>1</td>\n",
       "      <td>48</td>\n",
       "      <td>noshow</td>\n",
       "    </tr>\n",
       "    <tr>\n",
       "      <th>4</th>\n",
       "      <td>0</td>\n",
       "      <td>0</td>\n",
       "      <td>0</td>\n",
       "      <td>0</td>\n",
       "      <td>0</td>\n",
       "      <td>0</td>\n",
       "      <td>0</td>\n",
       "      <td>0</td>\n",
       "      <td>0</td>\n",
       "      <td>0</td>\n",
       "      <td>...</td>\n",
       "      <td>0</td>\n",
       "      <td>0</td>\n",
       "      <td>0</td>\n",
       "      <td>0</td>\n",
       "      <td>0</td>\n",
       "      <td>0</td>\n",
       "      <td>0</td>\n",
       "      <td>1</td>\n",
       "      <td>38</td>\n",
       "      <td>noshow</td>\n",
       "    </tr>\n",
       "  </tbody>\n",
       "</table>\n",
       "<p>5 rows × 75 columns</p>\n",
       "</div>"
      ],
      "text/plain": [
       "   participant = 4159901403  participant = 3856467788  \\\n",
       "0                         0                         0   \n",
       "1                         0                         0   \n",
       "2                         0                         0   \n",
       "3                         0                         0   \n",
       "4                         0                         0   \n",
       "\n",
       "   participant = 3807024061  participant = 3215247433  \\\n",
       "0                         0                         0   \n",
       "1                         0                         0   \n",
       "2                         0                         0   \n",
       "3                         0                         0   \n",
       "4                         0                         0   \n",
       "\n",
       "   participant = 2872476717  participant = 2417505282  \\\n",
       "0                         0                         0   \n",
       "1                         0                         0   \n",
       "2                         0                         0   \n",
       "3                         0                         0   \n",
       "4                         0                         0   \n",
       "\n",
       "   participant = 4162690658  participant = 3562155678  \\\n",
       "0                         0                         0   \n",
       "1                         0                         0   \n",
       "2                         0                         0   \n",
       "3                         0                         0   \n",
       "4                         0                         0   \n",
       "\n",
       "   participant = 3488625302  participant = 3418939447  ...  \\\n",
       "0                         0                         0  ...   \n",
       "1                         0                         0  ...   \n",
       "2                         0                         0  ...   \n",
       "3                         0                         0  ...   \n",
       "4                         0                         0  ...   \n",
       "\n",
       "   Appointment_Participant.actor = 27200000000000  \\\n",
       "0                                               0   \n",
       "1                                               0   \n",
       "2                                               0   \n",
       "3                                               0   \n",
       "4                                               0   \n",
       "\n",
       "   Appointment_Participant.actor = 9740000000000  \\\n",
       "0                                              0   \n",
       "1                                              0   \n",
       "2                                              0   \n",
       "3                                              0   \n",
       "4                                              0   \n",
       "\n",
       "   Appointment_Participant.actor = 8460000000000  \\\n",
       "0                                              0   \n",
       "1                                              0   \n",
       "2                                              0   \n",
       "3                                              0   \n",
       "4                                              0   \n",
       "\n",
       "   Appointment_Participant.actor = 923000000000000  \\\n",
       "0                                                0   \n",
       "1                                                0   \n",
       "2                                                0   \n",
       "3                                                0   \n",
       "4                                                0   \n",
       "\n",
       "   Appointment_Participant.actor = 795000000000000  \\\n",
       "0                                                0   \n",
       "1                                                0   \n",
       "2                                                0   \n",
       "3                                                0   \n",
       "4                                                0   \n",
       "\n",
       "   Appointment_Participant.actor = 724000000000000  \\\n",
       "0                                                0   \n",
       "1                                                0   \n",
       "2                                                0   \n",
       "3                                                0   \n",
       "4                                                0   \n",
       "\n",
       "   Appointment_Participant.actor = 659000000000000  \\\n",
       "0                                                0   \n",
       "1                                                0   \n",
       "2                                                0   \n",
       "3                                                0   \n",
       "4                                                0   \n",
       "\n",
       "   Appointment_Participant.actor is unknown  \\\n",
       "0                                         1   \n",
       "1                                         1   \n",
       "2                                         1   \n",
       "3                                         1   \n",
       "4                                         1   \n",
       "\n",
       "   Appointment_Participant.COUNT(Appointment)      label  \n",
       "0                                          56     noshow  \n",
       "1                                          55  fulfilled  \n",
       "2                                          33  fulfilled  \n",
       "3                                          48     noshow  \n",
       "4                                          38     noshow  \n",
       "\n",
       "[5 rows x 75 columns]"
      ]
     },
     "execution_count": 9,
     "metadata": {},
     "output_type": "execute_result"
    }
   ],
   "source": [
    "# feature engineering\n",
    "feature_matrix = cd.generate_features(label_times[:1000]) # takes a while for the full dataset\n",
    "feature_matrix.head(5)"
   ]
  },
  {
   "cell_type": "code",
   "execution_count": 10,
   "metadata": {
    "id": "xGmr2hXEWw9T"
   },
   "outputs": [],
   "source": [
    "# shuffle the dataframe\n",
    "feature_matrix = feature_matrix.sample(frac=1)\n",
    "\n",
    "# pop the target labels\n",
    "y = list(feature_matrix.pop('label'))\n",
    "X = feature_matrix.values"
   ]
  },
  {
   "cell_type": "markdown",
   "metadata": {
    "id": "Kr5EsvQUW4Yo"
   },
   "source": [
    "The pipeline variable represents the order in which machine learning algorithms are executed. It can be used to compare models together by specifying multiple algorithms in different lists. Such as:\n",
    "\n",
    "```\n",
    "pipeline = [['sklearn.ensemble.RandomForestClassifier'], \n",
    "            ['sklearn.neighbors.KNeighborsClassifier']]\n",
    "```\n",
    "\n",
    "Here we execute two different models, the first one being Random Forest and the second is K-Nearest Neighbor (KNN). In addition, you can use the pipeline to create your own encoding and modeling pipeline where the data crosses several algorithms to create the prediction model. For example, I can use a sequence of primitives that allow me to (1) normalize my data (2) use Random Forest. This can be modeled as:\n",
    "```\n",
    "pipeline = [['sklearn.preprocessing.StandardScaler', 'sklearn.ensemble.RandomForestClassifier'], \n",
    "            ['sklearn.neighbors.KNeighborsClassifier']]\n",
    "```\n",
    "Here there are two different models, the first one composes of two primitives (preprocessing through normalization then applying Random Forest) and the second is basic KNN. More on machine learning algorithms and MLPrimitives can be found here: https://HDI-Project.github.io/MLPrimitives"
   ]
  },
  {
   "cell_type": "code",
   "execution_count": 11,
   "metadata": {
    "colab": {
     "base_uri": "https://localhost:8080/"
    },
    "id": "JNvYIt-dXb7G",
    "outputId": "b3081349-c2ac-4334-a02a-61f942f2bfd6"
   },
   "outputs": [
    {
     "name": "stderr",
     "output_type": "stream",
     "text": [
      "Using TensorFlow backend.\n"
     ]
    }
   ],
   "source": [
    "# modeling\n",
    "pipeline = [['sklearn.ensemble.RandomForestClassifier'], \n",
    "            ['sklearn.naive_bayes.MultinomialNB'], \n",
    "            ['sklearn.neighbors.KNeighborsClassifier']]\n",
    "\n",
    "exe = cd.execute_model(feature_matrix=X,\n",
    "                       target=y, \n",
    "                       primitives=pipeline)"
   ]
  },
  {
   "cell_type": "markdown",
   "metadata": {
    "id": "Or-EtJ3_XguM"
   },
   "source": [
    "## Visualize Results\n",
    "\n",
    "After executing the pipelines, the method returns a list composing of each pipeline with each fold representing three main results:\n",
    "\n",
    "* The list of primitives used.\n",
    "* The actual label vector.\n",
    "* The predicted label vector.\n",
    "* The tuned hyperparameters (if given).\n",
    "\n",
    "In order to perceive the results and look at the performance of each pipeline we can view it's training process by merely plotting the confusion matrix."
   ]
  },
  {
   "cell_type": "code",
   "execution_count": 12,
   "metadata": {
    "colab": {
     "base_uri": "https://localhost:8080/",
     "height": 281
    },
    "id": "WXNtz9VvXxcm",
    "outputId": "0711adcf-ca8d-4269-8803-f16497367798"
   },
   "outputs": [
    {
     "data": {
      "image/png": "[encoded data removed]",
      "text/plain": [
       "<Figure size 432x288 with 1 Axes>"
      ]
     },
     "metadata": {
      "needs_background": "light"
     },
     "output_type": "display_data"
    }
   ],
   "source": [
    "y_test = []\n",
    "y_pred = []\n",
    "for i in range(0, 10):\n",
    "    y_test.extend(exe['pipeline0']['folds'][str(i)]['Actual'])\n",
    "    y_pred.extend(exe['pipeline0']['folds'][str(i)]['predicted'])\n",
    "\n",
    "y_test = pd.Categorical(pd.Series(y_test)).codes\n",
    "y_pred = pd.Categorical(pd.Series(y_pred)).codes\n",
    "\n",
    "plt.title(\"Confusion Matrix (accuracy=%.2f)\" % accuracy_score(y_test, y_pred))\n",
    "plt.imshow(pd.crosstab(y_test, y_pred), cmap=\"Blues\")\n",
    "\n",
    "plt.show()"
   ]
  }
 ],
 "metadata": {
  "colab": {
   "collapsed_sections": [],
   "name": "appointment_noshow_tutorial",
   "provenance": [],
   "toc_visible": true
  },
  "kernelspec": {
   "display_name": "Python 3",
   "language": "python",
   "name": "python3"
  },
  "language_info": {
   "codemirror_mode": {
    "name": "ipython",
    "version": 3
   },
   "file_extension": ".py",
   "mimetype": "text/x-python",
   "name": "python",
   "nbconvert_exporter": "python",
   "pygments_lexer": "ipython3",
   "version": "3.6.12"
  }
 },
 "nbformat": 4,
 "nbformat_minor": 1
}
