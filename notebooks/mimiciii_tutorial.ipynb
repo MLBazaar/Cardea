{
 "cells": [
  {
   "cell_type": "markdown",
   "metadata": {
    "id": "V7jxFkEVVIll"
   },
   "source": [
    "# Cardea\n",
    "\n",
    "Cardea is a machine learning library built on top of FHIR data standard to solve various common prediction problems from electronic health records.\n",
    "\n",
    "This is a python notebook that demonstrates Cardea's workflow from a user's perspective. It is decomposed based on the elements present in the framework. Documentation: https://DAI-Lab.github.io/Cardea/\n",
    "\n",
    "Currently in support of version 0.1.0.\n",
    "\n",
    "In this tutorial, we show how to predict whether a patient will showup to an appointment using a dataset from Kaggle's Medical Appointment No Shows. Over 30% of patients miss their scheduled appointments, this results in poor optimization of time and resources. Through machine learning, we want to predict future appointment no-shows by using an end-to-end library that is easy to interpret."
   ]
  },
  {
   "cell_type": "code",
   "execution_count": 1,
   "metadata": {
    "colab": {
     "base_uri": "https://localhost:8080/"
    },
    "id": "bF4XlPH8UPPO",
    "outputId": "aca5874e-a449-4ec5-f111-78a2fc7a29c2"
   },
   "outputs": [],
   "source": [
    "# if you are running from Google Colab, uncomment the following commands to \n",
    "# install cardea.\n",
    "\n",
    "# ! pip install cardea\n",
    "# ! pip install 'urllib3!=1.25.0,!=1.25.1,<1.26,>=1.21.1'"
   ]
  },
  {
   "cell_type": "code",
   "execution_count": 2,
   "metadata": {
    "id": "uqYRyFYLVfBK"
   },
   "outputs": [
    {
     "name": "stderr",
     "output_type": "stream",
     "text": [
      "/home/sim/bin/miniconda3/envs/cardea/lib/python3.7/site-packages/tqdm/auto.py:21: TqdmWarning: IProgress not found. Please update jupyter and ipywidgets. See https://ipywidgets.readthedocs.io/en/stable/user_install.html\n",
      "  from .autonotebook import tqdm as notebook_tqdm\n"
     ]
    }
   ],
   "source": [
    "# imports \n",
    "import matplotlib.pyplot as plt\n",
    "from mlblocks import MLPipeline\n",
    "\n",
    "from cardea import Cardea"
   ]
  },
  {
   "cell_type": "code",
   "execution_count": 3,
   "metadata": {
    "id": "rA1hkWm3VkpI"
   },
   "outputs": [],
   "source": [
    "# optional\n",
    "import warnings\n",
    "warnings.filterwarnings(\"ignore\")"
   ]
  },
  {
   "cell_type": "markdown",
   "metadata": {},
   "source": [
    "## Download MIMICIII Demo Dataset\n",
    "We Initialize Cardea with the path to the dataset csv files. Cardea supports FHIR and MIMICIII data, and in this tutorial we use MIMICIII data. If you wish to use Cardea on the publically available MIMICIII dataset (as we do in this tutorial), uncomment the following code and run it on the MIMICIII data. You can also download the private MIMICIII dataset and initialize `Cardea` with the path to that dataset."
   ]
  },
  {
   "cell_type": "code",
   "execution_count": 4,
   "metadata": {},
   "outputs": [],
   "source": [
    "# from os import makedirs\n",
    "# makedirs('mimic_demo_data', exist_ok=True)\n",
    "# ! wget -r -N -c -np https://physionet.org/files/mimiciii-demo/1.4/ -P mimic_demo_data/"
   ]
  },
  {
   "cell_type": "markdown",
   "metadata": {
    "id": "698qsY4uVoAP"
   },
   "source": [
    "After importing the necessary packages, it is time to initialize a new object of cardea. This object will serve as the main pillar to call any method within cardea."
   ]
  },
  {
   "cell_type": "code",
   "execution_count": 5,
   "metadata": {
    "id": "bN9h70jQVm6V"
   },
   "outputs": [],
   "source": [
    "cd = Cardea(data_path='mimic_demo_data/physionet.org/files/mimiciii-demo/1.4/', fhir=False)"
   ]
  },
  {
   "cell_type": "code",
   "execution_count": 6,
   "metadata": {},
   "outputs": [
    {
     "data": {
      "text/plain": [
       "Entityset: mimic\n",
       "  Entities:\n",
       "    admissions [Rows: 129, Columns: 19]\n",
       "    callout [Rows: 77, Columns: 24]\n",
       "    caregivers [Rows: 7567, Columns: 4]\n",
       "    chartevents [Rows: 758355, Columns: 15]\n",
       "    cptevents [Rows: 1579, Columns: 12]\n",
       "    d_cpt [Rows: 134, Columns: 9]\n",
       "    d_icd_diagnoses [Rows: 14567, Columns: 4]\n",
       "    d_icd_procedures [Rows: 3882, Columns: 4]\n",
       "    d_items [Rows: 12487, Columns: 10]\n",
       "    d_labitems [Rows: 753, Columns: 6]\n",
       "    datetimeevents [Rows: 15551, Columns: 14]\n",
       "    diagnoses_icd [Rows: 1761, Columns: 5]\n",
       "    drgcodes [Rows: 297, Columns: 8]\n",
       "    icustays [Rows: 136, Columns: 12]\n",
       "    inputevents_cv [Rows: 34799, Columns: 22]\n",
       "    inputevents_mv [Rows: 13224, Columns: 31]\n",
       "    labevents [Rows: 76074, Columns: 9]\n",
       "    microbiologyevents [Rows: 2003, Columns: 16]\n",
       "    noteevents [Rows: 0, Columns: 11]\n",
       "    outputevents [Rows: 11320, Columns: 13]\n",
       "    patients [Rows: 100, Columns: 8]\n",
       "    prescriptions [Rows: 10398, Columns: 19]\n",
       "    procedureevents_mv [Rows: 753, Columns: 25]\n",
       "    procedures_icd [Rows: 506, Columns: 5]\n",
       "    services [Rows: 163, Columns: 6]\n",
       "    transfers [Rows: 524, Columns: 13]\n",
       "  Relationships:\n",
       "    callout.hadm_id -> admissions.hadm_id\n",
       "    chartevents.hadm_id -> admissions.hadm_id\n",
       "    cptevents.hadm_id -> admissions.hadm_id\n",
       "    datetimeevents.hadm_id -> admissions.hadm_id\n",
       "    diagnoses_icd.hadm_id -> admissions.hadm_id\n",
       "    drgcodes.hadm_id -> admissions.hadm_id\n",
       "    icustays.hadm_id -> admissions.hadm_id\n",
       "    inputevents_cv.hadm_id -> admissions.hadm_id\n",
       "    inputevents_mv.hadm_id -> admissions.hadm_id\n",
       "    labevents.hadm_id -> admissions.hadm_id\n",
       "    microbiologyevents.hadm_id -> admissions.hadm_id\n",
       "    noteevents.hadm_id -> admissions.hadm_id\n",
       "    outputevents.hadm_id -> admissions.hadm_id\n",
       "    prescriptions.hadm_id -> admissions.hadm_id\n",
       "    procedureevents_mv.hadm_id -> admissions.hadm_id\n",
       "    procedures_icd.hadm_id -> admissions.hadm_id\n",
       "    services.hadm_id -> admissions.hadm_id\n",
       "    transfers.hadm_id -> admissions.hadm_id\n",
       "    chartevents.cgid -> caregivers.cgid\n",
       "    datetimeevents.cgid -> caregivers.cgid\n",
       "    inputevents_cv.cgid -> caregivers.cgid\n",
       "    inputevents_mv.cgid -> caregivers.cgid\n",
       "    noteevents.cgid -> caregivers.cgid\n",
       "    outputevents.cgid -> caregivers.cgid\n",
       "    procedureevents_mv.cgid -> caregivers.cgid\n",
       "    diagnoses_icd.icd9_code -> d_icd_diagnoses.icd9_code\n",
       "    procedures_icd.icd9_code -> d_icd_procedures.icd9_code\n",
       "    chartevents.itemid -> d_items.itemid\n",
       "    datetimeevents.itemid -> d_items.itemid\n",
       "    inputevents_mv.itemid -> d_items.itemid\n",
       "    microbiologyevents.ab_itemid -> d_items.itemid\n",
       "    microbiologyevents.org_itemid -> d_items.itemid\n",
       "    microbiologyevents.spec_itemid -> d_items.itemid\n",
       "    outputevents.itemid -> d_items.itemid\n",
       "    procedureevents_mv.itemid -> d_items.itemid\n",
       "    labevents.itemid -> d_labitems.itemid\n",
       "    chartevents.icustay_id -> icustays.icustay_id\n",
       "    datetimeevents.icustay_id -> icustays.icustay_id\n",
       "    inputevents_cv.icustay_id -> icustays.icustay_id\n",
       "    inputevents_mv.icustay_id -> icustays.icustay_id\n",
       "    outputevents.icustay_id -> icustays.icustay_id\n",
       "    prescriptions.icustay_id -> icustays.icustay_id\n",
       "    procedureevents_mv.icustay_id -> icustays.icustay_id\n",
       "    transfers.icustay_id -> icustays.icustay_id\n",
       "    admissions.subject_id -> patients.subject_id\n",
       "    callout.subject_id -> patients.subject_id\n",
       "    chartevents.subject_id -> patients.subject_id\n",
       "    cptevents.subject_id -> patients.subject_id\n",
       "    datetimeevents.subject_id -> patients.subject_id\n",
       "    diagnoses_icd.subject_id -> patients.subject_id\n",
       "    drgcodes.subject_id -> patients.subject_id\n",
       "    icustays.subject_id -> patients.subject_id\n",
       "    inputevents_cv.subject_id -> patients.subject_id\n",
       "    inputevents_mv.subject_id -> patients.subject_id\n",
       "    labevents.subject_id -> patients.subject_id\n",
       "    microbiologyevents.subject_id -> patients.subject_id\n",
       "    noteevents.subject_id -> patients.subject_id\n",
       "    outputevents.subject_id -> patients.subject_id\n",
       "    prescriptions.subject_id -> patients.subject_id\n",
       "    procedureevents_mv.subject_id -> patients.subject_id\n",
       "    procedures_icd.subject_id -> patients.subject_id\n",
       "    services.subject_id -> patients.subject_id\n",
       "    transfers.subject_id -> patients.subject_id"
      ]
     },
     "execution_count": 6,
     "metadata": {},
     "output_type": "execute_result"
    }
   ],
   "source": [
    "cd.entityset"
   ]
  },
  {
   "attachments": {},
   "cell_type": "markdown",
   "metadata": {
    "id": "i90DCR_CWDpR"
   },
   "source": [
    "The first section (entities) represents the resources that were loaded into the framework. In other words, it describes the dataframes available presented with the number of rows and columns. The second section describes the relationship between the entities, which boils down to matching id columns."
   ]
  },
  {
   "attachments": {},
   "cell_type": "markdown",
   "metadata": {
    "id": "OcLZ1JW6WNy2"
   },
   "source": [
    "## Problem Definition\n",
    "You can display all the problems currently implemented in cardea under the `list_problems` method. Note that `appointment_no_show` is not supported on MIMIC data. "
   ]
  },
  {
   "cell_type": "code",
   "execution_count": 7,
   "metadata": {
    "colab": {
     "base_uri": "https://localhost:8080/"
    },
    "id": "mvpDcTMZWGgV",
    "outputId": "53eecb40-bbec-4b60-95c7-85dd84662e1c"
   },
   "outputs": [
    {
     "data": {
      "text/plain": [
       "{'appointment_no_show',\n",
       " 'diagnosis_prediction',\n",
       " 'length_of_stay',\n",
       " 'mortality_prediction',\n",
       " 'readmission'}"
      ]
     },
     "execution_count": 7,
     "metadata": {},
     "output_type": "execute_result"
    }
   ],
   "source": [
    "cd.list_labelers()"
   ]
  },
  {
   "attachments": {},
   "cell_type": "markdown",
   "metadata": {
    "id": "CdqkG6N5WW6a"
   },
   "source": [
    "In this case, we will define the problem as _Mortality Prediction_ to predict whether a patient will miss their next appointment. Note that you can create your own `labeler` function to define a custom predictiont task.\n",
    "\n"
   ]
  },
  {
   "cell_type": "code",
   "execution_count": 8,
   "metadata": {
    "colab": {
     "base_uri": "https://localhost:8080/",
     "height": 195
    },
    "id": "XnxQR8UDWTBw",
    "outputId": "0281f75b-9e89-4c90-84ae-774415e10d11"
   },
   "outputs": [],
   "source": [
    "# select problem\n",
    "from cardea.data_labeling.mortality import mortality_prediction\n",
    "\n",
    "label_times = cd.label(mortality_prediction)"
   ]
  },
  {
   "cell_type": "markdown",
   "metadata": {
    "id": "D2vf2-iyWgfb"
   },
   "source": [
    "## AutoML\n",
    "Automated machine learning composes from two main phases:\n",
    "\n",
    "* **automated feature engineering**: through autofe, we extract information called features. Finding the features is crucial for building data models and help in finding a satisfactory answer and interpreting the dataset as a whole.\n",
    "* **automated modeling**: in automated modeling, the library supports running multiple machine learning algorithms and optimizes its hyperparamters in order to find the most optimal model.\n",
    "\n",
    "Typically, this phase is complex and comprises of many elements, but Cardea provides an easier way of handling both phases."
   ]
  },
  {
   "cell_type": "code",
   "execution_count": 9,
   "metadata": {
    "colab": {
     "base_uri": "https://localhost:8080/",
     "height": 282
    },
    "id": "e2VFryACWfQt",
    "outputId": "af9b3ca2-afa2-4a3a-881b-a9b347fc7e83"
   },
   "outputs": [
    {
     "data": {
      "text/html": [
       "<div>\n",
       "<style scoped>\n",
       "    .dataframe tbody tr th:only-of-type {\n",
       "        vertical-align: middle;\n",
       "    }\n",
       "\n",
       "    .dataframe tbody tr th {\n",
       "        vertical-align: top;\n",
       "    }\n",
       "\n",
       "    .dataframe thead th {\n",
       "        text-align: right;\n",
       "    }\n",
       "</style>\n",
       "<table border=\"1\" class=\"dataframe\">\n",
       "  <thead>\n",
       "    <tr style=\"text-align: right;\">\n",
       "      <th></th>\n",
       "      <th>row_id</th>\n",
       "      <th>subject_id</th>\n",
       "      <th>admission_type</th>\n",
       "      <th>admission_location</th>\n",
       "      <th>insurance</th>\n",
       "      <th>language</th>\n",
       "      <th>religion</th>\n",
       "      <th>marital_status</th>\n",
       "      <th>ethnicity</th>\n",
       "      <th>diagnosis</th>\n",
       "      <th>...</th>\n",
       "      <th>MONTH(edregtime)</th>\n",
       "      <th>WEEKDAY(admittime)</th>\n",
       "      <th>WEEKDAY(edouttime)</th>\n",
       "      <th>WEEKDAY(edregtime)</th>\n",
       "      <th>YEAR(admittime)</th>\n",
       "      <th>YEAR(edouttime)</th>\n",
       "      <th>YEAR(edregtime)</th>\n",
       "      <th>patients.row_id</th>\n",
       "      <th>patients.gender</th>\n",
       "      <th>label</th>\n",
       "    </tr>\n",
       "    <tr>\n",
       "      <th>hadm_id</th>\n",
       "      <th></th>\n",
       "      <th></th>\n",
       "      <th></th>\n",
       "      <th></th>\n",
       "      <th></th>\n",
       "      <th></th>\n",
       "      <th></th>\n",
       "      <th></th>\n",
       "      <th></th>\n",
       "      <th></th>\n",
       "      <th></th>\n",
       "      <th></th>\n",
       "      <th></th>\n",
       "      <th></th>\n",
       "      <th></th>\n",
       "      <th></th>\n",
       "      <th></th>\n",
       "      <th></th>\n",
       "      <th></th>\n",
       "      <th></th>\n",
       "      <th></th>\n",
       "    </tr>\n",
       "  </thead>\n",
       "  <tbody>\n",
       "    <tr>\n",
       "      <th>100375.0</th>\n",
       "      <td>12305.0</td>\n",
       "      <td>10056.0</td>\n",
       "      <td>EMERGENCY</td>\n",
       "      <td>TRANSFER FROM HOSP/EXTRAM</td>\n",
       "      <td>Medicare</td>\n",
       "      <td>NaN</td>\n",
       "      <td>CHRISTIAN SCIENTIST</td>\n",
       "      <td>UNKNOWN (DEFAULT)</td>\n",
       "      <td>WHITE</td>\n",
       "      <td>SEPSIS</td>\n",
       "      <td>...</td>\n",
       "      <td>NaN</td>\n",
       "      <td>0</td>\n",
       "      <td>NaN</td>\n",
       "      <td>NaN</td>\n",
       "      <td>2129</td>\n",
       "      <td>NaN</td>\n",
       "      <td>NaN</td>\n",
       "      <td>9514.0</td>\n",
       "      <td>F</td>\n",
       "      <td>False</td>\n",
       "    </tr>\n",
       "    <tr>\n",
       "      <th>100969.0</th>\n",
       "      <td>40554.0</td>\n",
       "      <td>42430.0</td>\n",
       "      <td>EMERGENCY</td>\n",
       "      <td>EMERGENCY ROOM ADMIT</td>\n",
       "      <td>Medicare</td>\n",
       "      <td>ENGL</td>\n",
       "      <td>CHRISTIAN SCIENTIST</td>\n",
       "      <td>NaN</td>\n",
       "      <td>WHITE</td>\n",
       "      <td>CEREBROVASCULAR ACCIDENT</td>\n",
       "      <td>...</td>\n",
       "      <td>11.0</td>\n",
       "      <td>0</td>\n",
       "      <td>0.0</td>\n",
       "      <td>0.0</td>\n",
       "      <td>2142</td>\n",
       "      <td>2142.0</td>\n",
       "      <td>2142.0</td>\n",
       "      <td>31429.0</td>\n",
       "      <td>M</td>\n",
       "      <td>True</td>\n",
       "    </tr>\n",
       "    <tr>\n",
       "      <th>101361.0</th>\n",
       "      <td>40379.0</td>\n",
       "      <td>41914.0</td>\n",
       "      <td>EMERGENCY</td>\n",
       "      <td>TRANSFER FROM HOSP/EXTRAM</td>\n",
       "      <td>Medicare</td>\n",
       "      <td>ENGL</td>\n",
       "      <td>CATHOLIC</td>\n",
       "      <td>MARRIED</td>\n",
       "      <td>WHITE</td>\n",
       "      <td>ELEVATED LIVER FUNCTIONS;S/P LIVER TRANSPLANT</td>\n",
       "      <td>...</td>\n",
       "      <td>NaN</td>\n",
       "      <td>2</td>\n",
       "      <td>NaN</td>\n",
       "      <td>NaN</td>\n",
       "      <td>2145</td>\n",
       "      <td>NaN</td>\n",
       "      <td>NaN</td>\n",
       "      <td>31300.0</td>\n",
       "      <td>M</td>\n",
       "      <td>False</td>\n",
       "    </tr>\n",
       "    <tr>\n",
       "      <th>102203.0</th>\n",
       "      <td>40462.0</td>\n",
       "      <td>42135.0</td>\n",
       "      <td>EMERGENCY</td>\n",
       "      <td>CLINIC REFERRAL/PREMATURE</td>\n",
       "      <td>Medicaid</td>\n",
       "      <td>ENGL</td>\n",
       "      <td>MUSLIM</td>\n",
       "      <td>MARRIED</td>\n",
       "      <td>AMERICAN INDIAN/ALASKA NATIVE FEDERALLY RECOGN...</td>\n",
       "      <td>FAILURE TO THRIVE</td>\n",
       "      <td>...</td>\n",
       "      <td>NaN</td>\n",
       "      <td>2</td>\n",
       "      <td>NaN</td>\n",
       "      <td>NaN</td>\n",
       "      <td>2127</td>\n",
       "      <td>NaN</td>\n",
       "      <td>NaN</td>\n",
       "      <td>31350.0</td>\n",
       "      <td>M</td>\n",
       "      <td>False</td>\n",
       "    </tr>\n",
       "    <tr>\n",
       "      <th>103379.0</th>\n",
       "      <td>41092.0</td>\n",
       "      <td>44228.0</td>\n",
       "      <td>EMERGENCY</td>\n",
       "      <td>EMERGENCY ROOM ADMIT</td>\n",
       "      <td>Private</td>\n",
       "      <td>ENGL</td>\n",
       "      <td>NOT SPECIFIED</td>\n",
       "      <td>SINGLE</td>\n",
       "      <td>WHITE</td>\n",
       "      <td>CHOLANGITIS</td>\n",
       "      <td>...</td>\n",
       "      <td>12.0</td>\n",
       "      <td>5</td>\n",
       "      <td>5.0</td>\n",
       "      <td>5.0</td>\n",
       "      <td>2170</td>\n",
       "      <td>2170.0</td>\n",
       "      <td>2170.0</td>\n",
       "      <td>31872.0</td>\n",
       "      <td>F</td>\n",
       "      <td>False</td>\n",
       "    </tr>\n",
       "  </tbody>\n",
       "</table>\n",
       "<p>5 rows × 1027 columns</p>\n",
       "</div>"
      ],
      "text/plain": [
       "           row_id  subject_id admission_type         admission_location  \\\n",
       "hadm_id                                                                   \n",
       "100375.0  12305.0     10056.0      EMERGENCY  TRANSFER FROM HOSP/EXTRAM   \n",
       "100969.0  40554.0     42430.0      EMERGENCY       EMERGENCY ROOM ADMIT   \n",
       "101361.0  40379.0     41914.0      EMERGENCY  TRANSFER FROM HOSP/EXTRAM   \n",
       "102203.0  40462.0     42135.0      EMERGENCY  CLINIC REFERRAL/PREMATURE   \n",
       "103379.0  41092.0     44228.0      EMERGENCY       EMERGENCY ROOM ADMIT   \n",
       "\n",
       "         insurance language             religion     marital_status  \\\n",
       "hadm_id                                                               \n",
       "100375.0  Medicare      NaN  CHRISTIAN SCIENTIST  UNKNOWN (DEFAULT)   \n",
       "100969.0  Medicare     ENGL  CHRISTIAN SCIENTIST                NaN   \n",
       "101361.0  Medicare     ENGL             CATHOLIC            MARRIED   \n",
       "102203.0  Medicaid     ENGL               MUSLIM            MARRIED   \n",
       "103379.0   Private     ENGL        NOT SPECIFIED             SINGLE   \n",
       "\n",
       "                                                  ethnicity  \\\n",
       "hadm_id                                                       \n",
       "100375.0                                              WHITE   \n",
       "100969.0                                              WHITE   \n",
       "101361.0                                              WHITE   \n",
       "102203.0  AMERICAN INDIAN/ALASKA NATIVE FEDERALLY RECOGN...   \n",
       "103379.0                                              WHITE   \n",
       "\n",
       "                                              diagnosis  ...  \\\n",
       "hadm_id                                                  ...   \n",
       "100375.0                                         SEPSIS  ...   \n",
       "100969.0                       CEREBROVASCULAR ACCIDENT  ...   \n",
       "101361.0  ELEVATED LIVER FUNCTIONS;S/P LIVER TRANSPLANT  ...   \n",
       "102203.0                              FAILURE TO THRIVE  ...   \n",
       "103379.0                                    CHOLANGITIS  ...   \n",
       "\n",
       "          MONTH(edregtime)  WEEKDAY(admittime)  WEEKDAY(edouttime)  \\\n",
       "hadm_id                                                              \n",
       "100375.0               NaN                   0                 NaN   \n",
       "100969.0              11.0                   0                 0.0   \n",
       "101361.0               NaN                   2                 NaN   \n",
       "102203.0               NaN                   2                 NaN   \n",
       "103379.0              12.0                   5                 5.0   \n",
       "\n",
       "          WEEKDAY(edregtime)  YEAR(admittime)  YEAR(edouttime)  \\\n",
       "hadm_id                                                          \n",
       "100375.0                 NaN             2129              NaN   \n",
       "100969.0                 0.0             2142           2142.0   \n",
       "101361.0                 NaN             2145              NaN   \n",
       "102203.0                 NaN             2127              NaN   \n",
       "103379.0                 5.0             2170           2170.0   \n",
       "\n",
       "          YEAR(edregtime)  patients.row_id  patients.gender  label  \n",
       "hadm_id                                                             \n",
       "100375.0              NaN           9514.0                F  False  \n",
       "100969.0           2142.0          31429.0                M   True  \n",
       "101361.0              NaN          31300.0                M  False  \n",
       "102203.0              NaN          31350.0                M  False  \n",
       "103379.0           2170.0          31872.0                F  False  \n",
       "\n",
       "[5 rows x 1027 columns]"
      ]
     },
     "execution_count": 9,
     "metadata": {},
     "output_type": "execute_result"
    }
   ],
   "source": [
    "# feature engineering\n",
    "feature_matrix = cd.featurize(label_times[:1000]) # takes a while for the full dataset\n",
    "feature_matrix.head(5)"
   ]
  },
  {
   "cell_type": "code",
   "execution_count": 10,
   "metadata": {
    "id": "xGmr2hXEWw9T"
   },
   "outputs": [],
   "source": [
    "# shuffle the dataframe\n",
    "feature_matrix = feature_matrix.sample(frac=1)\n",
    "\n",
    "# pop the target labels\n",
    "y = list(feature_matrix.pop('label'))\n",
    "X = feature_matrix.values"
   ]
  },
  {
   "cell_type": "code",
   "execution_count": 11,
   "metadata": {},
   "outputs": [],
   "source": [
    "# split the data into train and test\n",
    "X_train, X_test, y_train, y_test = cd.train_test_split(\n",
    "    X, y, test_size=0.2, shuffle=True)"
   ]
  },
  {
   "attachments": {},
   "cell_type": "markdown",
   "metadata": {
    "id": "Kr5EsvQUW4Yo"
   },
   "source": [
    "The pipeline variable represents the order in which machine learning algorithms are executed. It can be used to a single end to end model for our problem task. For example:\n",
    "\n",
    "```\n",
    "pipeline = MLPipeline(['sklearn.ensemble.RandomForestClassifier'])\n",
    "```\n",
    "\n",
    "Here we define a Random Forest model.\n",
    "\n",
    "In addition, you can use a sequence of primitives that allow you to (1) impute missing values (2) normalize the data (3) use Random Forest. This can be modeled as:\n",
    "```\n",
    "pipeline = MLPipeline([\n",
    "    'sklearn.impute.SimpleImputer',\n",
    "    'sklearn.preprocessing.OneHotEncoder',\n",
    "    'sklearn.ensemble.RandomForestClassifier'])\n",
    "```\n",
    "If you run this on the MIMIC code however, you will get errors as the default SimpleImputer hyperparameters (aka function arguments) only work for continuous data. If you change the `strategy` hyperparemter to `most_frequent` instead, it will work on mixed categorica & continuous data. You can change hyperparameters in the pipeline as follows:\n",
    "```\n",
    "pipeline = MLPipeline([\n",
    "    'sklearn.impute.SimpleImputer',\n",
    "    'sklearn.preprocessing.OneHotEncoder',\n",
    "    'sklearn.ensemble.RandomForestClassifier'],\n",
    "                      init_params={\n",
    "                          'sklearn.impute.SimpleImputer': {\n",
    "                              'strategy': 'most_frequent'},\n",
    "                          })\n",
    "```\n",
    "\n",
    "More on machine learning algorithms and MLPrimitives can be found here: https://HDI-Project.github.io/MLPrimitives"
   ]
  },
  {
   "cell_type": "code",
   "execution_count": 12,
   "metadata": {},
   "outputs": [],
   "source": [
    "# create a ML pipeline\n",
    "pipeline = MLPipeline([\n",
    "    'sklearn.impute.SimpleImputer',\n",
    "    'sklearn.preprocessing.OneHotEncoder',\n",
    "    'sklearn.ensemble.RandomForestClassifier'],\n",
    "                      init_params={\n",
    "                          'sklearn.impute.SimpleImputer': {\n",
    "                              'strategy': 'most_frequent'},\n",
    "                          })\n",
    "cd.set_pipeline(pipeline)"
   ]
  },
  {
   "cell_type": "code",
   "execution_count": 13,
   "metadata": {
    "colab": {
     "base_uri": "https://localhost:8080/"
    },
    "id": "JNvYIt-dXb7G",
    "outputId": "b3081349-c2ac-4334-a02a-61f942f2bfd6"
   },
   "outputs": [
    {
     "data": {
      "text/plain": [
       "Accuracy     0.922481\n",
       "F1 Macro     0.901976\n",
       "Precision    0.949495\n",
       "Recall       0.875000\n",
       "dtype: float64"
      ]
     },
     "execution_count": 13,
     "metadata": {},
     "output_type": "execute_result"
    }
   ],
   "source": [
    "# modeling\n",
    "cd.fit(X=X_train, y=y_train)\n",
    "results = cd.evaluate(X=X, y=y)\n",
    "results"
   ]
  }
 ],
 "metadata": {
  "colab": {
   "collapsed_sections": [],
   "name": "appointment_noshow_tutorial",
   "provenance": [],
   "toc_visible": true
  },
  "kernelspec": {
   "display_name": "cardea",
   "language": "python",
   "name": "cardea"
  },
  "language_info": {
   "codemirror_mode": {
    "name": "ipython",
    "version": 3
   },
   "file_extension": ".py",
   "mimetype": "text/x-python",
   "name": "python",
   "nbconvert_exporter": "python",
   "pygments_lexer": "ipython3",
   "version": "3.7.16"
  }
 },
 "nbformat": 4,
 "nbformat_minor": 1
}
